{
 "cells": [
  {
   "cell_type": "markdown",
   "id": "refined-passage",
   "metadata": {},
   "source": [
    "# COCO-annotations generation"
   ]
  },
  {
   "cell_type": "code",
   "execution_count": 2,
   "id": "current-deadline",
   "metadata": {},
   "outputs": [],
   "source": [
    "# %load_ext autoreload\n",
    "# %autoreload 2\n",
    "\n",
    "import os\n",
    "import sys\n",
    "import itertools\n",
    "import math\n",
    "import logging\n",
    "import json\n",
    "import re\n",
    "import random\n",
    "from collections import OrderedDict\n",
    "import numpy as np\n",
    "import matplotlib\n",
    "import matplotlib.patches as patches\n",
    "import matplotlib.lines as lines\n",
    "from matplotlib.patches import Polygon\n",
    "import warnings\n",
    "from PIL import Image\n",
    "\n",
    "warnings.filterwarnings('ignore')\n",
    "\n",
    "import utils\n",
    "import visualize\n",
    "from visualize import display_images\n",
    "import model as modellib\n",
    "from model import log\n",
    "import xavi\n",
    "\n",
    "ROOT_DIR = os.getcwd()\n",
    "XAVI_DIR = \"XAVI_Dataset\"  # TODO: enter value here"
   ]
  },
  {
   "cell_type": "markdown",
   "id": "overall-links",
   "metadata": {},
   "source": [
    "## 1. Training set"
   ]
  },
  {
   "cell_type": "code",
   "execution_count": 1,
   "id": "insured-africa",
   "metadata": {},
   "outputs": [],
   "source": [
    "subset = \"train\"\n",
    "resolution = \"512\"\n",
    "json_categories = json.load(open(os.path.join(XAVI_DIR, subset + resolution, \"categories.json\")))[\"Categories\"]\n",
    "config = xavi.XaviConfig(json_categories)\n",
    "\n",
    "# Dataset\n",
    "dataset = xavi.XaviDataset()\n",
    "dataset.load_xavi(XAVI_DIR, subset + resolution, xavi.MasksType.PNG, json_categories, (512, 512))\n",
    "dataset.prepare()\n",
    "\n",
    "print(\"Image Count: {}\".format(len(dataset.image_ids)))\n",
    "print(\"Class Count: {}\".format(dataset.num_classes))\n",
    "for i, info in enumerate(dataset.class_info):\n",
    "    print(\"{:3}. {:50}\".format(i, info['name']))"
   ]
  },
  {
   "cell_type": "markdown",
   "id": "organized-endorsement",
   "metadata": {},
   "source": [
    "### Use PNG masks to generate annotations"
   ]
  },
  {
   "cell_type": "markdown",
   "id": "solved-clone",
   "metadata": {},
   "source": [
    "Use PNG masks of the dataset to generate file of annotations in COCO format:"
   ]
  },
  {
   "cell_type": "code",
   "execution_count": 10,
   "id": "focused-posting",
   "metadata": {
    "scrolled": true
   },
   "outputs": [
    {
     "name": "stdout",
     "output_type": "stream",
     "text": [
      "Finished generating annotations.\n",
      "Saved to: XAVI_Dataset\\val512\\annotations.json\n",
      "Time elapsed: 279.07\n"
     ]
    }
   ],
   "source": [
    "dataset.PngMasksToAnnotations(\"Xavi Datset (train)\")"
   ]
  },
  {
   "cell_type": "markdown",
   "id": "difficult-bracket",
   "metadata": {},
   "source": [
    "## 2. Validation set"
   ]
  },
  {
   "cell_type": "code",
   "execution_count": 1,
   "id": "appreciated-period",
   "metadata": {},
   "outputs": [],
   "source": [
    "subset = \"val\"\n",
    "resolution = \"512\"\n",
    "json_categories = json.load(open(os.path.join(XAVI_DIR, subset + resolution, \"categories.json\")))[\"Categories\"]\n",
    "config = xavi.XaviConfig(json_categories)\n",
    "\n",
    "# Dataset\n",
    "dataset = xavi.XaviDataset()\n",
    "dataset.load_xavi(XAVI_DIR, subset + resolution, xavi.MasksType.PNG, json_categories, (512, 512))\n",
    "dataset.prepare()\n",
    "\n",
    "print(\"Image Count: {}\".format(len(dataset.image_ids)))\n",
    "print(\"Class Count: {}\".format(dataset.num_classes))\n",
    "for i, info in enumerate(dataset.class_info):\n",
    "    print(\"{:3}. {:50}\".format(i, info['name']))"
   ]
  },
  {
   "cell_type": "markdown",
   "id": "bottom-composer",
   "metadata": {},
   "source": [
    "### Use PNG masks to generate annotations"
   ]
  },
  {
   "cell_type": "code",
   "execution_count": 10,
   "id": "trained-check",
   "metadata": {},
   "outputs": [
    {
     "name": "stdout",
     "output_type": "stream",
     "text": [
      "Finished generating annotations.\n",
      "Saved to: XAVI_Dataset\\val512\\annotations.json\n",
      "Time elapsed: 279.07\n"
     ]
    }
   ],
   "source": [
    "dataset.PngMasksToAnnotations(\"Xavi Datset (val)\")"
   ]
  },
  {
   "cell_type": "markdown",
   "id": "given-manual",
   "metadata": {},
   "source": [
    "## 3. Testing set"
   ]
  },
  {
   "cell_type": "code",
   "execution_count": 3,
   "id": "electoral-victorian",
   "metadata": {},
   "outputs": [
    {
     "name": "stdout",
     "output_type": "stream",
     "text": [
      "Image Count: 9848\n",
      "Class Count: 3\n",
      "  0. BG                                                \n",
      "  1. Human                                             \n",
      "  2. Vehicle_Car                                       \n"
     ]
    }
   ],
   "source": [
    "subset = \"test\"\n",
    "resolution = \"512\"\n",
    "json_categories = json.load(open(os.path.join(XAVI_DIR, subset + resolution, \"categories.json\")))[\"Categories\"]\n",
    "config = xavi.XaviConfig(json_categories)\n",
    "\n",
    "# Dataset\n",
    "dataset = xavi.XaviDataset()\n",
    "dataset.load_xavi(XAVI_DIR, subset + resolution, xavi.MasksType.PNG, json_categories, (512, 512))\n",
    "dataset.prepare()\n",
    "\n",
    "print(\"Image Count: {}\".format(len(dataset.image_ids)))\n",
    "print(\"Class Count: {}\".format(dataset.num_classes))\n",
    "for i, info in enumerate(dataset.class_info):\n",
    "    print(\"{:3}. {:50}\".format(i, info['name']))"
   ]
  },
  {
   "cell_type": "markdown",
   "id": "frank-latin",
   "metadata": {},
   "source": [
    "### Use PNG masks to generate annotations"
   ]
  },
  {
   "cell_type": "code",
   "execution_count": 4,
   "id": "vietnamese-installation",
   "metadata": {},
   "outputs": [
    {
     "name": "stdout",
     "output_type": "stream",
     "text": [
      "Finished generating annotations.\n",
      "Saved to: XAVI_Dataset\\test512\\annotations.json\n",
      "Elapsed time: 287.66\n"
     ]
    }
   ],
   "source": [
    "dataset.PngMasksToAnnotations(\"Xavi Datset (test)\")"
   ]
  }
 ],
 "metadata": {
  "kernelspec": {
   "display_name": "Python 3",
   "language": "python",
   "name": "python3"
  },
  "language_info": {
   "codemirror_mode": {
    "name": "ipython",
    "version": 3
   },
   "file_extension": ".py",
   "mimetype": "text/x-python",
   "name": "python",
   "nbconvert_exporter": "python",
   "pygments_lexer": "ipython3",
   "version": "3.7.8"
  }
 },
 "nbformat": 4,
 "nbformat_minor": 5
}
