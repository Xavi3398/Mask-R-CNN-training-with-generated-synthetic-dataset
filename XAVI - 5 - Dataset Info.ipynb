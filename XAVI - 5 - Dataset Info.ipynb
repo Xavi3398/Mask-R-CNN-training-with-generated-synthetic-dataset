{
 "cells": [
  {
   "cell_type": "markdown",
   "id": "marked-barcelona",
   "metadata": {},
   "source": [
    "# Generated dataset analysis"
   ]
  },
  {
   "cell_type": "markdown",
   "id": "improved-writer",
   "metadata": {},
   "source": [
    "The purpose of this notebook is to extract information about the generated dataset."
   ]
  },
  {
   "cell_type": "markdown",
   "id": "detailed-jonathan",
   "metadata": {},
   "source": [
    "## Configuration"
   ]
  },
  {
   "cell_type": "code",
   "execution_count": 4,
   "id": "aggregate-number",
   "metadata": {},
   "outputs": [],
   "source": [
    "import os\n",
    "import warnings\n",
    "import json\n",
    "from IPython.display import clear_output\n",
    "# warnings.filterwarnings('ignore')"
   ]
  },
  {
   "cell_type": "code",
   "execution_count": 1,
   "id": "threaded-undergraduate",
   "metadata": {},
   "outputs": [],
   "source": [
    "import xavi\n",
    "XAVI_DIR = \"XAVI_Dataset\"  # TODO: enter value here\n",
    "json_categories = json.load(open(os.path.join(XAVI_DIR, \"train512\", \"categories.json\")))[\"Categories\"]\n",
    "config = xavi.XaviConfig(json_categories)"
   ]
  },
  {
   "cell_type": "markdown",
   "id": "continental-defense",
   "metadata": {},
   "source": [
    "## 1. Training set"
   ]
  },
  {
   "cell_type": "code",
   "execution_count": 8,
   "id": "mental-nursery",
   "metadata": {},
   "outputs": [
    {
     "name": "stdout",
     "output_type": "stream",
     "text": [
      "Image Count: 19584\n",
      "Class Count: 3\n"
     ]
    }
   ],
   "source": [
    "dataset = xavi.XaviDataset()\n",
    "dataset.load_xavi(XAVI_DIR, \"train512\", xavi.MasksType.ANNOTATIONS)\n",
    "dataset.prepare()\n",
    "\n",
    "clear_output(wait=True)\n",
    "print(\"Image Count: {}\".format(len(dataset.image_ids)))\n",
    "print(\"Class Count: {}\".format(dataset.num_classes))"
   ]
  },
  {
   "cell_type": "code",
   "execution_count": 7,
   "id": "peripheral-consensus",
   "metadata": {},
   "outputs": [
    {
     "name": "stdout",
     "output_type": "stream",
     "text": [
      "\n",
      "     name                           \t n_images   \t n_instances \t instances per image\n",
      "-------------------------------------------------------------------------------------------------------\n",
      "  0. BG                             \t          0 \t          0 \t        nan\n",
      "  1. Human                          \t      16496 \t      44874 \t       2.72\n",
      "  2. Vehicle_Car                    \t       6701 \t      12164 \t       1.82\n"
     ]
    }
   ],
   "source": [
    "dataset.info_dataset()"
   ]
  },
  {
   "cell_type": "markdown",
   "id": "banned-drama",
   "metadata": {
    "scrolled": false
   },
   "source": [
    "## 2. Validation set"
   ]
  },
  {
   "cell_type": "code",
   "execution_count": 9,
   "id": "leading-chrome",
   "metadata": {},
   "outputs": [
    {
     "name": "stdout",
     "output_type": "stream",
     "text": [
      "Image Count: 9870\n",
      "Class Count: 3\n"
     ]
    }
   ],
   "source": [
    "dataset = xavi.XaviDataset()\n",
    "dataset.load_xavi(XAVI_DIR, \"val512\", xavi.MasksType.ANNOTATIONS)\n",
    "dataset.prepare()\n",
    "\n",
    "clear_output(wait=True)\n",
    "print(\"Image Count: {}\".format(len(dataset.image_ids)))\n",
    "print(\"Class Count: {}\".format(dataset.num_classes))"
   ]
  },
  {
   "cell_type": "code",
   "execution_count": 10,
   "id": "adverse-bench",
   "metadata": {},
   "outputs": [
    {
     "name": "stdout",
     "output_type": "stream",
     "text": [
      "\n",
      "     name                           \t n_images   \t n_instances \t instances per image\n",
      "-------------------------------------------------------------------------------------------------------\n",
      "  0. BG                             \t          0 \t          0 \t        nan\n",
      "  1. Human                          \t       8340 \t      22341 \t       2.68\n",
      "  2. Vehicle_Car                    \t       3366 \t       6150 \t       1.83\n"
     ]
    }
   ],
   "source": [
    "dataset.info_dataset()"
   ]
  },
  {
   "cell_type": "markdown",
   "id": "running-minneapolis",
   "metadata": {
    "scrolled": false
   },
   "source": [
    "## 3. Test set"
   ]
  },
  {
   "cell_type": "code",
   "execution_count": 9,
   "id": "expressed-donor",
   "metadata": {},
   "outputs": [
    {
     "name": "stdout",
     "output_type": "stream",
     "text": [
      "Image Count: 9870\n",
      "Class Count: 3\n"
     ]
    }
   ],
   "source": [
    "dataset = xavi.XaviDataset()\n",
    "dataset.load_xavi(XAVI_DIR, \"test512\", xavi.MasksType.ANNOTATIONS)\n",
    "dataset.prepare()\n",
    "\n",
    "clear_output(wait=True)\n",
    "print(\"Image Count: {}\".format(len(dataset.image_ids)))\n",
    "print(\"Class Count: {}\".format(dataset.num_classes))"
   ]
  },
  {
   "cell_type": "code",
   "execution_count": 10,
   "id": "french-grass",
   "metadata": {},
   "outputs": [
    {
     "name": "stdout",
     "output_type": "stream",
     "text": [
      "\n",
      "     name                           \t n_images   \t n_instances \t instances per image\n",
      "-------------------------------------------------------------------------------------------------------\n",
      "  0. BG                             \t          0 \t          0 \t        nan\n",
      "  1. Human                          \t       8340 \t      22341 \t       2.68\n",
      "  2. Vehicle_Car                    \t       3366 \t       6150 \t       1.83\n"
     ]
    }
   ],
   "source": [
    "dataset.info_dataset()"
   ]
  }
 ],
 "metadata": {
  "kernelspec": {
   "display_name": "Python 3",
   "language": "python",
   "name": "python3"
  },
  "language_info": {
   "codemirror_mode": {
    "name": "ipython",
    "version": 3
   },
   "file_extension": ".py",
   "mimetype": "text/x-python",
   "name": "python",
   "nbconvert_exporter": "python",
   "pygments_lexer": "ipython3",
   "version": "3.7.8"
  }
 },
 "nbformat": 4,
 "nbformat_minor": 5
}
