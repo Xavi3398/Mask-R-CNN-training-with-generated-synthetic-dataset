{
 "cells": [
  {
   "cell_type": "markdown",
   "metadata": {},
   "source": [
    "# Training evaluation"
   ]
  },
  {
   "cell_type": "code",
   "execution_count": 1,
   "metadata": {},
   "outputs": [],
   "source": [
    "%load_ext autoreload\n",
    "%autoreload 2"
   ]
  },
  {
   "cell_type": "code",
   "execution_count": 2,
   "metadata": {},
   "outputs": [
    {
     "name": "stderr",
     "output_type": "stream",
     "text": [
      "Using TensorFlow backend.\n"
     ]
    }
   ],
   "source": [
    "import warnings\n",
    "warnings.filterwarnings('ignore')\n",
    "\n",
    "import os\n",
    "import sys\n",
    "import random\n",
    "import math\n",
    "import re\n",
    "import time\n",
    "import tensorflow as tf\n",
    "import matplotlib\n",
    "import matplotlib.patches as patches\n",
    "import json\n",
    "import skimage.io\n",
    "from IPython.display import clear_output\n",
    "import numpy as np\n",
    "\n",
    "import utils\n",
    "import visualize\n",
    "from visualize import display_images\n",
    "import model as modellib\n",
    "from model import log\n",
    "import xavi\n",
    "import coco\n",
    "\n",
    "ROOT_DIR = os.getcwd() # Root directory of the project\n",
    "XAVI_DIR = os.path.join(ROOT_DIR, \"XAVI_Dataset\") # Xavi Dataset directory\n",
    "MODEL_DIR = os.path.join(XAVI_DIR, \"model\") # Directory to save trained model\n",
    "DEFAULT_LOGS_DIR = os.path.join(MODEL_DIR, \"logs\") # Directory to save logs\n",
    "XAVI_MODELS = os.path.join(DEFAULT_LOGS_DIR, \"xavi51220210430T1046\") # Local path to trained weights file\n",
    "TRAINING_SUBSET = \"train512\"\n",
    "VALIDATION_SUBSET = \"val512\"\n",
    "COCO_DIR = os.path.join(os.getcwd(), \"COCO_Dataset\") # Xavi Dataset directory\n",
    "COCO_VALIDATION_SUBSET = \"valminusminival\"\n",
    "\n",
    "matplotlib.use('TkAgg')\n",
    "import matplotlib.pyplot as plt\n",
    "%matplotlib inline "
   ]
  },
  {
   "cell_type": "markdown",
   "metadata": {},
   "source": [
    "## Load datasets"
   ]
  },
  {
   "cell_type": "markdown",
   "metadata": {},
   "source": [
    "### XAVI dataset"
   ]
  },
  {
   "cell_type": "code",
   "execution_count": 3,
   "metadata": {
    "scrolled": true
   },
   "outputs": [
    {
     "name": "stdout",
     "output_type": "stream",
     "text": [
      "Images: 9870\n",
      "Classes: ['BG', 'Human', 'Vehicle_Car']\n"
     ]
    }
   ],
   "source": [
    "# Build validation dataset\n",
    "json_categories = json.load(open(os.path.join(XAVI_DIR, VALIDATION_SUBSET, \"categories.json\")))[\"Categories\"]\n",
    "xavi_dataset = xavi.XaviDataset()\n",
    "xavi_dataset.load_xavi(XAVI_DIR, VALIDATION_SUBSET, xavi.MasksType[\"PNG\"], json_categories, (512, 512))\n",
    "xavi_dataset.prepare()\n",
    "\n",
    "print(\"Images: {}\\nClasses: {}\".format(len(xavi_dataset.image_ids), xavi_dataset.class_names))"
   ]
  },
  {
   "cell_type": "markdown",
   "metadata": {},
   "source": [
    "### COCO dataset"
   ]
  },
  {
   "cell_type": "code",
   "execution_count": 4,
   "metadata": {},
   "outputs": [
    {
     "name": "stdout",
     "output_type": "stream",
     "text": [
      "Images: 20129\n",
      "Classes: ['BG', 'person', 'car']\n"
     ]
    }
   ],
   "source": [
    "# Build validation dataset\n",
    "coco_dataset = coco.CocoDataset()\n",
    "coco_dataset.load_coco(COCO_DIR, COCO_VALIDATION_SUBSET, class_ids=[1,3])\n",
    "coco_dataset.prepare()\n",
    "\n",
    "clear_output(wait=True)\n",
    "print(\"Images: {}\\nClasses: {}\".format(len(coco_dataset.image_ids), coco_dataset.class_names))"
   ]
  },
  {
   "cell_type": "markdown",
   "metadata": {},
   "source": [
    "## Evaluation of the training"
   ]
  },
  {
   "cell_type": "markdown",
   "metadata": {},
   "source": [
    "For each class, for each model (output of each epoch) and each dataset, compute the mAP:"
   ]
  },
  {
   "cell_type": "code",
   "execution_count": 8,
   "metadata": {},
   "outputs": [
    {
     "name": "stdout",
     "output_type": "stream",
     "text": [
      "39  /  40\n",
      "APS Xavi Dataset:  [0.0, 0.016297619181374706, 0.16406865214763414, 0.23908207234645645, 0.26184648754483175, 0.34638412870218355, 0.5171683294397025, 0.44260648389349855, 0.5002865115238561, 0.5233369076482597, 0.5251807392608552, 0.5735572128693263, 0.5446538910681293, 0.6468238132631495, 0.6684801622423387, 0.6271978441236371, 0.6418244731533858, 0.6142526106032588, 0.6292948264620747, 0.6682607743484632, 0.6942916684498391, 0.6606174643722673, 0.706030680836505, 0.7098508627040994, 0.6795901911613487, 0.7321865118674579, 0.7191466295087621, 0.7069950824633596, 0.682114774895211, 0.6901150817631019, 0.7412405396650236, 0.7208477670085571, 0.7515952404872291, 0.7734602120144973, 0.7768703740860025, 0.8002589310707435, 0.7702603210934571, 0.7824582477178837, 0.796106641292572, 0.8157924622711208]\n",
      "APS COCO Dataset:  [0.0, 0.0019117965859671432, 0.0606681933812797, 0.04823266775254563, 0.035912271407831986, 0.09487523627600498, 0.1225077024286594, 0.09069658160363397, 0.16244776624982202, 0.13403357862509668, 0.08461505215295723, 0.09076724511407541, 0.07371134529138605, 0.08581939408058922, 0.12746950391555825, 0.13972505165683846, 0.11018473227446277, 0.1379978980344599, 0.10896071388794198, 0.15832266986192692, 0.16216988884639882, 0.12508268740214407, 0.12861901767711553, 0.16405616725058786, 0.13297916755777975, 0.16223718344916901, 0.17258867606769004, 0.18296845457921126, 0.14454306879550927, 0.13909577957975366, 0.17817139892900982, 0.11815224466224511, 0.11566212486984238, 0.1903696064626177, 0.20630840665672084, 0.1467257341597052, 0.2028576873055408, 0.2320651716134023, 0.17727423281222582, 0.20118730183791306]\n",
      "APS Xavi Dataset:  [0.0, 0.016297619181374706, 0.16406865214763414, 0.23908207234645645, 0.26184648754483175, 0.34638412870218355, 0.5171683294397025, 0.44260648389349855, 0.5002865115238561, 0.5233369076482597, 0.5251807392608552, 0.5735572128693263, 0.5446538910681293, 0.6468238132631495, 0.6684801622423387, 0.6271978441236371, 0.6418244731533858, 0.6142526106032588, 0.6292948264620747, 0.6682607743484632, 0.6942916684498391, 0.6606174643722673, 0.706030680836505, 0.7098508627040994, 0.6795901911613487, 0.7321865118674579, 0.7191466295087621, 0.7069950824633596, 0.682114774895211, 0.6901150817631019, 0.7412405396650236, 0.7208477670085571, 0.7515952404872291, 0.7734602120144973, 0.7768703740860025, 0.8002589310707435, 0.7702603210934571, 0.7824582477178837, 0.796106641292572, 0.8157924622711208]\n",
      "APS Xavi Dataset (humans):  [0.0, 0.01504065053976648, 0.13673054684599645, 0.20692848153650228, 0.2419126743304307, 0.3527811262981001, 0.48814997512278296, 0.40041297727658787, 0.48776797171883435, 0.5075659927485013, 0.4728291344876383, 0.49191347653485407, 0.5483489545789967, 0.6121780781261623, 0.6175831478063751, 0.6025826543891376, 0.6207286186072798, 0.5721517291431333, 0.5880385513878443, 0.6423060005020212, 0.6506024989503912, 0.644911730363796, 0.6432111036267735, 0.6728223562088548, 0.6421909099571915, 0.7046732067485818, 0.6377756751689815, 0.6429855031869661, 0.6353930494834641, 0.6368019725484063, 0.695320264580203, 0.6910154097804836, 0.7090398789966494, 0.7496815511839523, 0.7431699388781015, 0.7814619433666979, 0.755191965754331, 0.7457854432050295, 0.7677677513424294, 0.7805720918404272]\n",
      "APS Xavi Dataset (cars):  [0.0, 0.039473684210526314, 0.20426829389440332, 0.4544270847691223, 0.36290322700815814, 0.369918700519616, 0.5336021511785446, 0.5013440874635532, 0.5171568637677266, 0.5291666674117247, 0.6468253974985873, 0.7785087738905037, 0.5173611149191857, 0.7071759277195842, 0.7208333350126706, 0.7420634928262896, 0.6369047622595515, 0.7122395848855376, 0.6969696987758983, 0.7776785740214917, 0.7646464651281183, 0.6624565989089509, 0.8030888045559058, 0.7409090914509513, 0.7071052643813586, 0.7387096795343584, 0.7616161625042106, 0.8718253975468022, 0.7622747759561281, 0.7675675701450657, 0.8147685191697545, 0.7421296313405037, 0.8314393945414611, 0.7940476203248614, 0.7916666675591841, 0.8266666683057944, 0.7593750024680048, 0.8035714296357972, 0.8227430576613793, 0.8590476206370763]\n",
      "APS COCO Dataset:  [0.0, 0.0019117965859671432, 0.0606681933812797, 0.04823266775254563, 0.035912271407831986, 0.09487523627600498, 0.1225077024286594, 0.09069658160363397, 0.16244776624982202, 0.13403357862509668, 0.08461505215295723, 0.09076724511407541, 0.07371134529138605, 0.08581939408058922, 0.12746950391555825, 0.13972505165683846, 0.11018473227446277, 0.1379978980344599, 0.10896071388794198, 0.15832266986192692, 0.16216988884639882, 0.12508268740214407, 0.12861901767711553, 0.16405616725058786, 0.13297916755777975, 0.16223718344916901, 0.17258867606769004, 0.18296845457921126, 0.14454306879550927, 0.13909577957975366, 0.17817139892900982, 0.11815224466224511, 0.11566212486984238, 0.1903696064626177, 0.20630840665672084, 0.1467257341597052, 0.2028576873055408, 0.2320651716134023, 0.17727423281222582, 0.20118730183791306]\n",
      "APS COCO Dataset (humans):  [0.0, 0.002481476142165366, 0.06599158211366127, 0.05794793496871373, 0.04171183760548737, 0.1310382213975702, 0.14704225905590787, 0.10033476948283239, 0.1606504353935034, 0.13494882839131622, 0.08310172566834072, 0.1035639507328572, 0.08540147973030913, 0.09390670635427038, 0.1334675790607622, 0.14367001885047523, 0.1189272019576202, 0.14679759522625183, 0.11253773292031373, 0.16923693355051497, 0.17344956441813117, 0.1286628451968322, 0.14722439374991508, 0.17672088896717636, 0.13907663498590742, 0.1699885479433255, 0.19253239133567723, 0.20294090484666547, 0.17145352271907296, 0.1581502272894508, 0.18946506412208286, 0.13971107509797034, 0.1149542042515651, 0.20792509135820517, 0.22478458510408353, 0.17280913610111925, 0.22783697148812043, 0.23633828220006667, 0.17974637780364944, 0.2213147720011572]\n",
      "APS COCO Dataset (cars):  [0.0, 0.0, 0.0, 0.0, 0.0125, 0.0, 0.06020408230168479, 0.06052631580908047, 0.10098901148885489, 0.1225000001490116, 0.09848484855431777, 0.034722222222222224, 0.07433862473677705, 0.01666666716337204, 0.055000000074505805, 0.11749482543572136, 0.04268476644567415, 0.09386446912373815, 0.10064102600639065, 0.09860248523561851, 0.10811965941236569, 0.0790909093618393, 0.125, 0.18000000044703485, 0.11712963009874026, 0.07658942394396838, 0.05263157894736842, 0.1, 0.04743083145307458, 0.02564102564102564, 0.010416666977107525, 0.03918650829129749, 0.21300505101680756, 0.07542087648201871, 0.07196581279238065, 0.0743939395993948, 0.06738539385524663, 0.12862654369738366, 0.14664502238685434, 0.10119047619047619]\n"
     ]
    }
   ],
   "source": [
    "N_IMAGES = 100\n",
    "\n",
    "# Load config and model in inference mode\n",
    "config = xavi.XaviConfig(json_categories)\n",
    "xavi_model = modellib.MaskRCNN(mode=\"inference\", model_dir=DEFAULT_LOGS_DIR, config=config)\n",
    "\n",
    "APS_XaviDataset = []\n",
    "APS_XaviDataset_humans = []\n",
    "APS_XaviDataset_cars = []\n",
    "\n",
    "APS_CocoDataset = []\n",
    "APS_CocoDataset_humans = []\n",
    "APS_CocoDataset_cars = []\n",
    "\n",
    "weights_files = [f for f in os.listdir(XAVI_MODELS) if f.endswith(\".h5\")]\n",
    "\n",
    "for i, weights_file in enumerate(weights_files):\n",
    "    \n",
    "    # Load model\n",
    "    xavi_model.load_weights(os.path.join(XAVI_MODELS, weights_file), by_name=True)\n",
    "    \n",
    "    # Pick random images from validation test\n",
    "    xavi_ids = np.random.choice(xavi_dataset.image_ids, N_IMAGES, replace=False)\n",
    "    coco_ids = np.random.choice(coco_dataset.image_ids, N_IMAGES, replace=False)\n",
    "    \n",
    "    # Compute AP for XAVI Dataset\n",
    "    (APs, class_APs) = utils.compute_batch_ap(xavi_dataset, config, xavi_model, xavi_ids, show_images = False, target_classes=(1,2))\n",
    "    APS_XaviDataset.append(np.mean(APs))\n",
    "    APS_XaviDataset_humans.append(np.mean(class_APs[1]))\n",
    "    APS_XaviDataset_cars.append(np.mean(class_APs[2]))\n",
    "    \n",
    "    # Compute AP for COCO Dataset\n",
    "    (APs, class_APs) = utils.compute_batch_ap(coco_dataset, config, xavi_model, coco_ids, show_images = False, target_classes=(1,2))\n",
    "    APS_CocoDataset.append(np.mean(APs))\n",
    "    APS_CocoDataset_humans.append(np.mean(class_APs[1]))\n",
    "    APS_CocoDataset_cars.append(np.mean(class_APs[2]))\n",
    "    \n",
    "    clear_output(wait=True)\n",
    "    print(i, \" / \", len(weights_files))\n",
    "    print(\"APS Xavi Dataset: \", APS_XaviDataset)\n",
    "    print(\"APS COCO Dataset: \", APS_CocoDataset)\n",
    "\n",
    "clear_output(wait=True)\n",
    "print(\"APS Xavi Dataset: \", APS_XaviDataset)\n",
    "print(\"APS Xavi Dataset (humans): \", APS_XaviDataset_humans)\n",
    "print(\"APS Xavi Dataset (cars): \", APS_XaviDataset_cars)\n",
    "print(\"APS COCO Dataset: \", APS_CocoDataset)\n",
    "print(\"APS COCO Dataset (humans): \", APS_CocoDataset_humans)\n",
    "print(\"APS COCO Dataset (cars): \", APS_CocoDataset_cars)"
   ]
  }
 ],
 "metadata": {
  "kernelspec": {
   "display_name": "Python 3",
   "language": "python",
   "name": "python3"
  },
  "language_info": {
   "codemirror_mode": {
    "name": "ipython",
    "version": 3
   },
   "file_extension": ".py",
   "mimetype": "text/x-python",
   "name": "python",
   "nbconvert_exporter": "python",
   "pygments_lexer": "ipython3",
   "version": "3.7.8"
  }
 },
 "nbformat": 4,
 "nbformat_minor": 2
}
