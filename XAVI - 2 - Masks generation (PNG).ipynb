{
 "cells": [
  {
   "cell_type": "markdown",
   "id": "lesser-encyclopedia",
   "metadata": {},
   "source": [
    "# PNG Masks generation"
   ]
  },
  {
   "cell_type": "code",
   "execution_count": 10,
   "id": "aggregate-number",
   "metadata": {},
   "outputs": [],
   "source": [
    "# %load_ext autoreload\n",
    "# %autoreload 2\n",
    "\n",
    "import os\n",
    "import json\n",
    "import warnings\n",
    "warnings.filterwarnings('ignore')\n",
    "import utils\n",
    "import xavi\n",
    "\n",
    "ROOT_DIR = os.getcwd()\n",
    "XAVI_DIR = \"XAVI_Dataset\""
   ]
  },
  {
   "cell_type": "markdown",
   "id": "international-logging",
   "metadata": {},
   "source": [
    "## 1. Training set"
   ]
  },
  {
   "cell_type": "code",
   "execution_count": 4,
   "id": "threaded-undergraduate",
   "metadata": {},
   "outputs": [
    {
     "name": "stdout",
     "output_type": "stream",
     "text": [
      "Image Count: 19584\n",
      "Class Count: 3\n",
      "  0. BG                                                \n",
      "  1. Human                                             \n",
      "  2. Vehicle_Car                                       \n"
     ]
    }
   ],
   "source": [
    "subset = \"train\"\n",
    "resolution = \"512\"\n",
    "\n",
    "# Load dataset\n",
    "json_categories = json.load(open(os.path.join(XAVI_DIR, subset + resolution, \"categories.json\")))[\"Categories\"]\n",
    "dataset = xavi.XaviDataset()\n",
    "dataset.load_xavi(XAVI_DIR, subset + resolution, xavi.MasksType.PNG, json_categories, (512,512))\n",
    "dataset.prepare()\n",
    "\n",
    "print(\"Image Count: {}\".format(len(dataset.image_ids)))\n",
    "print(\"Class Count: {}\".format(dataset.num_classes))\n",
    "for i, info in enumerate(dataset.class_info):\n",
    "    print(\"{:3}. {:50}\".format(i, info['name']))"
   ]
  },
  {
   "cell_type": "markdown",
   "id": "opponent-sampling",
   "metadata": {},
   "source": [
    "### Generation of PNG masks"
   ]
  },
  {
   "cell_type": "markdown",
   "id": "paperback-nickname",
   "metadata": {},
   "source": [
    "In order to speed up the training phase, the masks are calculated before-hand, in the folder \"Masks\". Every RGB image will have a corresponding folder with the same name, which will contain its masks, named with its class. During the training of the neural net, it will only be needed to load the masks from memory."
   ]
  },
  {
   "cell_type": "code",
   "execution_count": 81,
   "id": "alien-criminal",
   "metadata": {},
   "outputs": [
    {
     "name": "stdout",
     "output_type": "stream",
     "text": [
      "Count:       0 /    9870\n",
      "Count:     100 /    9870\n",
      "Count:     200 /    9870\n",
      "Count:     300 /    9870\n",
      "Count:     400 /    9870\n",
      "Count:     500 /    9870\n",
      "Count:     600 /    9870\n",
      "Count:     700 /    9870\n",
      "Count:     800 /    9870\n",
      "Count:     900 /    9870\n",
      "Count:    1000 /    9870\n",
      "Count:    1100 /    9870\n",
      "Count:    1200 /    9870\n",
      "Count:    1300 /    9870\n",
      "Count:    1400 /    9870\n",
      "Count:    1500 /    9870\n",
      "Count:    1600 /    9870\n",
      "Count:    1700 /    9870\n",
      "Count:    1800 /    9870\n",
      "Count:    1900 /    9870\n",
      "Count:    2000 /    9870\n",
      "Count:    2100 /    9870\n",
      "Count:    2200 /    9870\n",
      "Count:    2300 /    9870\n",
      "Count:    2400 /    9870\n",
      "Count:    2500 /    9870\n",
      "Count:    2600 /    9870\n",
      "Count:    2700 /    9870\n",
      "Count:    2800 /    9870\n",
      "Count:    2900 /    9870\n",
      "Count:    3000 /    9870\n",
      "Count:    3100 /    9870\n",
      "Count:    3200 /    9870\n",
      "Count:    3300 /    9870\n",
      "Count:    3400 /    9870\n",
      "Count:    3500 /    9870\n",
      "Count:    3600 /    9870\n",
      "Count:    3700 /    9870\n",
      "Count:    3800 /    9870\n",
      "Count:    3900 /    9870\n",
      "Count:    4000 /    9870\n",
      "Count:    4100 /    9870\n",
      "Count:    4200 /    9870\n",
      "Count:    4300 /    9870\n",
      "Count:    4400 /    9870\n",
      "Count:    4500 /    9870\n",
      "Count:    4600 /    9870\n",
      "Count:    4700 /    9870\n",
      "Count:    4800 /    9870\n",
      "Count:    4900 /    9870\n",
      "Count:    5000 /    9870\n",
      "Count:    5100 /    9870\n",
      "Count:    5200 /    9870\n",
      "Count:    5300 /    9870\n",
      "Count:    5400 /    9870\n",
      "Count:    5500 /    9870\n",
      "Count:    5600 /    9870\n",
      "Count:    5700 /    9870\n",
      "Count:    5800 /    9870\n",
      "Count:    5900 /    9870\n",
      "Count:    6000 /    9870\n",
      "Count:    6100 /    9870\n",
      "Count:    6200 /    9870\n",
      "Count:    6300 /    9870\n",
      "Count:    6400 /    9870\n",
      "Count:    6500 /    9870\n",
      "Count:    6600 /    9870\n",
      "Count:    6700 /    9870\n",
      "Count:    6800 /    9870\n",
      "Count:    6900 /    9870\n",
      "Count:    7000 /    9870\n",
      "Count:    7100 /    9870\n",
      "Count:    7200 /    9870\n",
      "Count:    7300 /    9870\n",
      "Count:    7400 /    9870\n",
      "Count:    7500 /    9870\n",
      "Count:    7600 /    9870\n",
      "Count:    7700 /    9870\n",
      "Count:    7800 /    9870\n",
      "Count:    7900 /    9870\n",
      "Count:    8000 /    9870\n",
      "Count:    8100 /    9870\n",
      "Count:    8200 /    9870\n",
      "Count:    8300 /    9870\n",
      "Count:    8400 /    9870\n",
      "Count:    8500 /    9870\n",
      "Count:    8600 /    9870\n",
      "Count:    8700 /    9870\n",
      "Count:    8800 /    9870\n",
      "Count:    8900 /    9870\n",
      "Count:    9000 /    9870\n",
      "Count:    9100 /    9870\n",
      "Count:    9200 /    9870\n",
      "Count:    9300 /    9870\n",
      "Count:    9400 /    9870\n",
      "Count:    9500 /    9870\n",
      "Count:    9600 /    9870\n",
      "Count:    9700 /    9870\n",
      "Count:    9800 /    9870\n"
     ]
    }
   ],
   "source": [
    "dataset.GeneratePngMasks()"
   ]
  },
  {
   "cell_type": "markdown",
   "id": "bridal-hawaii",
   "metadata": {},
   "source": [
    "## 2. Validation set"
   ]
  },
  {
   "cell_type": "code",
   "execution_count": 76,
   "id": "surgical-entrepreneur",
   "metadata": {},
   "outputs": [
    {
     "name": "stdout",
     "output_type": "stream",
     "text": [
      "Image Count: 10132\n",
      "Class Count: 3\n",
      "  0. BG                                                \n",
      "  1. Human                                             \n",
      "  2. Vehicle_Car                                       \n"
     ]
    }
   ],
   "source": [
    "import xavi\n",
    "\n",
    "XAVI_DIR = \"XAVI_Dataset\"\n",
    "subset = \"val\"\n",
    "resolution = \"512\"\n",
    "\n",
    "# Load dataset\n",
    "json_categories = json.load(open(os.path.join(XAVI_DIR, subset + resolution, \"categories.json\")))[\"Categories\"]\n",
    "dataset = xavi.XaviDataset()\n",
    "dataset.load_xavi(XAVI_DIR, subset + resolution, xavi.MasksType.PNG, json_categories, (512,512))\n",
    "dataset.prepare()\n",
    "\n",
    "print(\"Image Count: {}\".format(len(dataset.image_ids)))\n",
    "print(\"Class Count: {}\".format(dataset.num_classes))\n",
    "for i, info in enumerate(dataset.class_info):\n",
    "    print(\"{:3}. {:50}\".format(i, info['name']))"
   ]
  },
  {
   "cell_type": "markdown",
   "id": "hearing-emphasis",
   "metadata": {},
   "source": [
    "### Generation of PNG masks"
   ]
  },
  {
   "cell_type": "code",
   "execution_count": 81,
   "id": "expired-tract",
   "metadata": {},
   "outputs": [
    {
     "name": "stdout",
     "output_type": "stream",
     "text": [
      "Count:       0 /    9870\n",
      "Count:     100 /    9870\n",
      "Count:     200 /    9870\n",
      "Count:     300 /    9870\n",
      "Count:     400 /    9870\n",
      "Count:     500 /    9870\n",
      "Count:     600 /    9870\n",
      "Count:     700 /    9870\n",
      "Count:     800 /    9870\n",
      "Count:     900 /    9870\n",
      "Count:    1000 /    9870\n",
      "Count:    1100 /    9870\n",
      "Count:    1200 /    9870\n",
      "Count:    1300 /    9870\n",
      "Count:    1400 /    9870\n",
      "Count:    1500 /    9870\n",
      "Count:    1600 /    9870\n",
      "Count:    1700 /    9870\n",
      "Count:    1800 /    9870\n",
      "Count:    1900 /    9870\n",
      "Count:    2000 /    9870\n",
      "Count:    2100 /    9870\n",
      "Count:    2200 /    9870\n",
      "Count:    2300 /    9870\n",
      "Count:    2400 /    9870\n",
      "Count:    2500 /    9870\n",
      "Count:    2600 /    9870\n",
      "Count:    2700 /    9870\n",
      "Count:    2800 /    9870\n",
      "Count:    2900 /    9870\n",
      "Count:    3000 /    9870\n",
      "Count:    3100 /    9870\n",
      "Count:    3200 /    9870\n",
      "Count:    3300 /    9870\n",
      "Count:    3400 /    9870\n",
      "Count:    3500 /    9870\n",
      "Count:    3600 /    9870\n",
      "Count:    3700 /    9870\n",
      "Count:    3800 /    9870\n",
      "Count:    3900 /    9870\n",
      "Count:    4000 /    9870\n",
      "Count:    4100 /    9870\n",
      "Count:    4200 /    9870\n",
      "Count:    4300 /    9870\n",
      "Count:    4400 /    9870\n",
      "Count:    4500 /    9870\n",
      "Count:    4600 /    9870\n",
      "Count:    4700 /    9870\n",
      "Count:    4800 /    9870\n",
      "Count:    4900 /    9870\n",
      "Count:    5000 /    9870\n",
      "Count:    5100 /    9870\n",
      "Count:    5200 /    9870\n",
      "Count:    5300 /    9870\n",
      "Count:    5400 /    9870\n",
      "Count:    5500 /    9870\n",
      "Count:    5600 /    9870\n",
      "Count:    5700 /    9870\n",
      "Count:    5800 /    9870\n",
      "Count:    5900 /    9870\n",
      "Count:    6000 /    9870\n",
      "Count:    6100 /    9870\n",
      "Count:    6200 /    9870\n",
      "Count:    6300 /    9870\n",
      "Count:    6400 /    9870\n",
      "Count:    6500 /    9870\n",
      "Count:    6600 /    9870\n",
      "Count:    6700 /    9870\n",
      "Count:    6800 /    9870\n",
      "Count:    6900 /    9870\n",
      "Count:    7000 /    9870\n",
      "Count:    7100 /    9870\n",
      "Count:    7200 /    9870\n",
      "Count:    7300 /    9870\n",
      "Count:    7400 /    9870\n",
      "Count:    7500 /    9870\n",
      "Count:    7600 /    9870\n",
      "Count:    7700 /    9870\n",
      "Count:    7800 /    9870\n",
      "Count:    7900 /    9870\n",
      "Count:    8000 /    9870\n",
      "Count:    8100 /    9870\n",
      "Count:    8200 /    9870\n",
      "Count:    8300 /    9870\n",
      "Count:    8400 /    9870\n",
      "Count:    8500 /    9870\n",
      "Count:    8600 /    9870\n",
      "Count:    8700 /    9870\n",
      "Count:    8800 /    9870\n",
      "Count:    8900 /    9870\n",
      "Count:    9000 /    9870\n",
      "Count:    9100 /    9870\n",
      "Count:    9200 /    9870\n",
      "Count:    9300 /    9870\n",
      "Count:    9400 /    9870\n",
      "Count:    9500 /    9870\n",
      "Count:    9600 /    9870\n",
      "Count:    9700 /    9870\n",
      "Count:    9800 /    9870\n"
     ]
    }
   ],
   "source": [
    "dataset.GeneratePngMasks()"
   ]
  },
  {
   "cell_type": "markdown",
   "id": "global-spell",
   "metadata": {},
   "source": [
    "## 3. Testing set"
   ]
  },
  {
   "cell_type": "code",
   "execution_count": 11,
   "id": "future-denial",
   "metadata": {},
   "outputs": [
    {
     "name": "stdout",
     "output_type": "stream",
     "text": [
      "Image Count: 9848\n",
      "Class Count: 3\n",
      "  0. BG                                                \n",
      "  1. Human                                             \n",
      "  2. Vehicle_Car                                       \n"
     ]
    }
   ],
   "source": [
    "subset = \"test\"\n",
    "resolution = \"512\"\n",
    "\n",
    "# Load dataset\n",
    "json_categories = json.load(open(os.path.join(XAVI_DIR, subset + resolution, \"categories.json\")))[\"Categories\"]\n",
    "dataset = xavi.XaviDataset()\n",
    "dataset.load_xavi(XAVI_DIR, subset + resolution, xavi.MasksType.PNG, json_categories, (512,512))\n",
    "dataset.prepare()\n",
    "\n",
    "print(\"Image Count: {}\".format(len(dataset.image_ids)))\n",
    "print(\"Class Count: {}\".format(dataset.num_classes))\n",
    "for i, info in enumerate(dataset.class_info):\n",
    "    print(\"{:3}. {:50}\".format(i, info['name']))"
   ]
  },
  {
   "cell_type": "markdown",
   "id": "separated-fairy",
   "metadata": {},
   "source": [
    "### Generation of PNG masks"
   ]
  },
  {
   "cell_type": "code",
   "execution_count": 12,
   "id": "explicit-enemy",
   "metadata": {},
   "outputs": [
    {
     "name": "stdout",
     "output_type": "stream",
     "text": [
      "Finished generating masks. Time elapsed: 4174.22\n"
     ]
    }
   ],
   "source": [
    "dataset.GeneratePngMasks()"
   ]
  }
 ],
 "metadata": {
  "kernelspec": {
   "display_name": "Python 3",
   "language": "python",
   "name": "python3"
  },
  "language_info": {
   "codemirror_mode": {
    "name": "ipython",
    "version": 3
   },
   "file_extension": ".py",
   "mimetype": "text/x-python",
   "name": "python",
   "nbconvert_exporter": "python",
   "pygments_lexer": "ipython3",
   "version": "3.7.8"
  }
 },
 "nbformat": 4,
 "nbformat_minor": 5
}
