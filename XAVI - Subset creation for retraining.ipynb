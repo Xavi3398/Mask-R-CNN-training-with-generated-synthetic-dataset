{
 "cells": [
  {
   "cell_type": "markdown",
   "metadata": {},
   "source": [
    "## Subset Creation"
   ]
  },
  {
   "cell_type": "code",
   "execution_count": 3,
   "metadata": {},
   "outputs": [
    {
     "name": "stdout",
     "output_type": "stream",
     "text": [
      "The autoreload extension is already loaded. To reload it, use:\n",
      "  %reload_ext autoreload\n"
     ]
    }
   ],
   "source": [
    "%load_ext autoreload\n",
    "%autoreload 2"
   ]
  },
  {
   "cell_type": "code",
   "execution_count": 33,
   "metadata": {},
   "outputs": [],
   "source": [
    "import warnings\n",
    "warnings.filterwarnings('ignore')\n",
    "\n",
    "import os\n",
    "import random\n",
    "import xavi\n",
    "from pycocotools.coco import COCO\n",
    "\n",
    "COCO_DIR = os.path.join(os.getcwd(), \"COCO_Dataset\")\n",
    "COCO_ANNOTATIONS = os.path.join(COCO_DIR, \"annotations\")\n",
    "coco_input_path = os.path.join(COCO_ANNOTATIONS, \"instances_valminusminival2014.json\")"
   ]
  },
  {
   "cell_type": "markdown",
   "metadata": {},
   "source": [
    "## Preparation"
   ]
  },
  {
   "cell_type": "code",
   "execution_count": 35,
   "metadata": {},
   "outputs": [
    {
     "name": "stdout",
     "output_type": "stream",
     "text": [
      "loading annotations into memory...\n",
      "Done (t=6.17s)\n",
      "creating index...\n",
      "index created!\n",
      "Number of images:  35504\n"
     ]
    }
   ],
   "source": [
    "coco_input = COCO(coco_input_path)\n",
    "list_ids = coco_input.getImgIds() # Load only images that contain Human and Car\n",
    "print(\"Number of images: \", len(list_ids))"
   ]
  },
  {
   "cell_type": "code",
   "execution_count": 36,
   "metadata": {},
   "outputs": [
    {
     "name": "stdout",
     "output_type": "stream",
     "text": [
      "Finished generating annotations.\n",
      "Saved to: E:\\OneDrive - Universitat de les Illes Balears\\2020-2021\\TFG\\Github\\Mask_RCNN-2.1\\COCO_Dataset\\coco_training.json\n",
      "Elapsed time: 2.15\n"
     ]
    }
   ],
   "source": [
    "# training subset\n",
    "training_subset = random.sample(list_ids, 5000)\n",
    "list_ids = [x for x in list_ids if x not in training_subset]\n",
    "\n",
    "xavi.AnnotationsSubset(\n",
    "    coco_input_path=coco_input_path,\n",
    "    list_ids=training_subset,\n",
    "    name=\"coco_training\",\n",
    "    path=COCO_ANNOTATIONS,\n",
    "    list_classes=[1,3], # Human and Car\n",
    "    change_classes=[(3,2)] # Car will have id=2 instead of id=3\n",
    ")"
   ]
  },
  {
   "cell_type": "code",
   "execution_count": 37,
   "metadata": {},
   "outputs": [
    {
     "name": "stdout",
     "output_type": "stream",
     "text": [
      "Finished generating annotations.\n",
      "Saved to: E:\\OneDrive - Universitat de les Illes Balears\\2020-2021\\TFG\\Github\\Mask_RCNN-2.1\\COCO_Dataset\\coco_validation.json\n",
      "Elapsed time: 1.96\n"
     ]
    }
   ],
   "source": [
    "# validation subset\n",
    "validation_subset = random.sample(list_ids, 5000)\n",
    "list_ids = [x for x in list_ids if x not in validation_subset]\n",
    "\n",
    "xavi.AnnotationsSubset(\n",
    "    coco_input_path=coco_input_path,\n",
    "    list_ids=validation_subset,\n",
    "    name=\"coco_validation\",\n",
    "    path=COCO_ANNOTATIONS,\n",
    "    list_classes=[1,3], # Human and Car\n",
    "    change_classes=[(3,2)] # Car will have id=2 instead of id=3\n",
    ")"
   ]
  }
 ],
 "metadata": {
  "kernelspec": {
   "display_name": "Python 3",
   "language": "python",
   "name": "python3"
  },
  "language_info": {
   "codemirror_mode": {
    "name": "ipython",
    "version": 3
   },
   "file_extension": ".py",
   "mimetype": "text/x-python",
   "name": "python",
   "nbconvert_exporter": "python",
   "pygments_lexer": "ipython3",
   "version": "3.7.8"
  }
 },
 "nbformat": 4,
 "nbformat_minor": 2
}
