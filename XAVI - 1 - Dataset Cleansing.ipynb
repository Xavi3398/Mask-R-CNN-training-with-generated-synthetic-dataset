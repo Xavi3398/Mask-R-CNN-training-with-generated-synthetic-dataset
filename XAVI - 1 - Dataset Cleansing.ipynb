{
 "cells": [
  {
   "cell_type": "markdown",
   "id": "lesser-encyclopedia",
   "metadata": {},
   "source": [
    "# Dataset cleansing"
   ]
  },
  {
   "cell_type": "code",
   "execution_count": 1,
   "id": "aggregate-number",
   "metadata": {},
   "outputs": [
    {
     "name": "stderr",
     "output_type": "stream",
     "text": [
      "Using TensorFlow backend.\n"
     ]
    }
   ],
   "source": [
    "# %load_ext autoreload\n",
    "# %autoreload 2\n",
    "\n",
    "import os\n",
    "import json\n",
    "import warnings\n",
    "warnings.filterwarnings('ignore')\n",
    "import utils\n",
    "import xavi\n",
    "\n",
    "ROOT_DIR = os.getcwd()\n",
    "XAVI_DIR = \"XAVI_Dataset\"\n",
    "subset = \"train\"\n",
    "resolution = \"512\"\n",
    "\n",
    "json_categories = json.load(open(os.path.join(XAVI_DIR, subset + resolution, \"categories.json\")))[\"Categories\"]"
   ]
  },
  {
   "cell_type": "markdown",
   "id": "following-neighborhood",
   "metadata": {},
   "source": [
    "## 1. Training set"
   ]
  },
  {
   "cell_type": "code",
   "execution_count": 16,
   "id": "threaded-undergraduate",
   "metadata": {},
   "outputs": [
    {
     "name": "stdout",
     "output_type": "stream",
     "text": [
      "Image Count: 19584\n",
      "Class Count: 3\n",
      "  0. BG                                                \n",
      "  1. Human                                             \n",
      "  2. Vehicle_Car                                       \n"
     ]
    }
   ],
   "source": [
    "subset = \"train\"\n",
    "\n",
    "dataset = xavi.XaviDataset()\n",
    "dataset.load_xavi(XAVI_DIR, subset + resolution, xavi.MasksType.PNG, json_categories, (512,512))\n",
    "dataset.prepare()\n",
    "\n",
    "print(\"Image Count: {}\".format(len(dataset.image_ids)))\n",
    "print(\"Class Count: {}\".format(dataset.num_classes))\n",
    "for i, info in enumerate(dataset.class_info):\n",
    "    print(\"{:3}. {:50}\".format(i, info['name']))"
   ]
  },
  {
   "cell_type": "markdown",
   "id": "random-conservative",
   "metadata": {},
   "source": [
    "### Cleansing: remove images with no classes"
   ]
  },
  {
   "cell_type": "markdown",
   "id": "young-cuisine",
   "metadata": {},
   "source": [
    "Check which images have no classes, and remove them from the dataset. They will be moved to the target directory, so as to be reloaded in the future if needed."
   ]
  },
  {
   "cell_type": "code",
   "execution_count": 77,
   "id": "alpine-jersey",
   "metadata": {},
   "outputs": [
    {
     "name": "stdout",
     "output_type": "stream",
     "text": [
      "Number of Images removed from dataset: 262\n"
     ]
    }
   ],
   "source": [
    "destiny = os.path.join(XAVI_DIR, subset + resolution + \" (removed images)\")\n",
    "dataset.remove_black_images(destiny)"
   ]
  },
  {
   "cell_type": "markdown",
   "id": "enhanced-opening",
   "metadata": {},
   "source": [
    "### Status of dataset"
   ]
  },
  {
   "cell_type": "code",
   "execution_count": 80,
   "id": "linear-irrigation",
   "metadata": {
    "scrolled": true
   },
   "outputs": [
    {
     "name": "stdout",
     "output_type": "stream",
     "text": [
      "Image Count: 9870\n",
      "Class Count: 3\n",
      "  0. BG                                                \n",
      "  1. Human                                             \n",
      "  2. Vehicle_Car                                       \n"
     ]
    }
   ],
   "source": [
    "dataset = xavi.XaviDataset()\n",
    "dataset.load_xavi(XAVI_DIR, subset + resolution, xavi.MasksType.PNG, json_categories, (512,512))\n",
    "dataset.prepare()\n",
    "\n",
    "print(\"Image Count: {}\".format(len(dataset.image_ids)))\n",
    "print(\"Class Count: {}\".format(dataset.num_classes))\n",
    "for i, info in enumerate(dataset.class_info):\n",
    "    print(\"{:3}. {:50}\".format(i, info['name']))"
   ]
  },
  {
   "cell_type": "markdown",
   "id": "behind-range",
   "metadata": {},
   "source": [
    "## 2. Validation set"
   ]
  },
  {
   "cell_type": "code",
   "execution_count": 76,
   "id": "sunrise-concrete",
   "metadata": {},
   "outputs": [
    {
     "name": "stdout",
     "output_type": "stream",
     "text": [
      "Image Count: 10132\n",
      "Class Count: 3\n",
      "  0. BG                                                \n",
      "  1. Human                                             \n",
      "  2. Vehicle_Car                                       \n"
     ]
    }
   ],
   "source": [
    "subset = \"val\"\n",
    "\n",
    "dataset = xavi.XaviDataset()\n",
    "dataset.load_xavi(XAVI_DIR, subset + resolution, xavi.MasksType.PNG, json_categories, (512,512))\n",
    "dataset.prepare()\n",
    "\n",
    "print(\"Image Count: {}\".format(len(dataset.image_ids)))\n",
    "print(\"Class Count: {}\".format(dataset.num_classes))\n",
    "for i, info in enumerate(dataset.class_info):\n",
    "    print(\"{:3}. {:50}\".format(i, info['name']))"
   ]
  },
  {
   "cell_type": "markdown",
   "id": "gothic-invalid",
   "metadata": {},
   "source": [
    "### Cleansing: remove images with no classes"
   ]
  },
  {
   "cell_type": "code",
   "execution_count": 77,
   "id": "great-bruce",
   "metadata": {},
   "outputs": [
    {
     "name": "stdout",
     "output_type": "stream",
     "text": [
      "Number of Images removed from dataset: 262\n"
     ]
    }
   ],
   "source": [
    "destiny = os.path.join(XAVI_DIR, subset + resolution + \" (removed images)\")\n",
    "dataset.remove_black_images(destiny)"
   ]
  },
  {
   "cell_type": "markdown",
   "id": "consistent-testing",
   "metadata": {},
   "source": [
    "### Status of dataset"
   ]
  },
  {
   "cell_type": "code",
   "execution_count": 80,
   "id": "spanish-physiology",
   "metadata": {
    "scrolled": true
   },
   "outputs": [
    {
     "name": "stdout",
     "output_type": "stream",
     "text": [
      "Image Count: 9870\n",
      "Class Count: 3\n",
      "  0. BG                                                \n",
      "  1. Human                                             \n",
      "  2. Vehicle_Car                                       \n"
     ]
    }
   ],
   "source": [
    "dataset = xavi.XaviDataset()\n",
    "dataset.load_xavi(XAVI_DIR, subset + resolution, xavi.MasksType.PNG, json_categories, (512,512))\n",
    "dataset.prepare()\n",
    "\n",
    "print(\"Image Count: {}\".format(len(dataset.image_ids)))\n",
    "print(\"Class Count: {}\".format(dataset.num_classes))\n",
    "for i, info in enumerate(dataset.class_info):\n",
    "    print(\"{:3}. {:50}\".format(i, info['name']))"
   ]
  },
  {
   "cell_type": "markdown",
   "id": "moral-camel",
   "metadata": {},
   "source": [
    "## 3. Testing set"
   ]
  },
  {
   "cell_type": "code",
   "execution_count": 2,
   "id": "dental-record",
   "metadata": {},
   "outputs": [
    {
     "name": "stdout",
     "output_type": "stream",
     "text": [
      "Image Count: 10132\n",
      "Class Count: 3\n",
      "  0. BG                                                \n",
      "  1. Human                                             \n",
      "  2. Vehicle_Car                                       \n"
     ]
    }
   ],
   "source": [
    "subset = \"test\"\n",
    "\n",
    "dataset = xavi.XaviDataset()\n",
    "dataset.load_xavi(XAVI_DIR, subset + resolution, xavi.MasksType.PNG, json_categories, (512,512))\n",
    "dataset.prepare()\n",
    "\n",
    "print(\"Image Count: {}\".format(len(dataset.image_ids)))\n",
    "print(\"Class Count: {}\".format(dataset.num_classes))\n",
    "for i, info in enumerate(dataset.class_info):\n",
    "    print(\"{:3}. {:50}\".format(i, info['name']))"
   ]
  },
  {
   "cell_type": "markdown",
   "id": "fitted-trinidad",
   "metadata": {},
   "source": [
    "### Cleansing: remove images with no classes"
   ]
  },
  {
   "cell_type": "code",
   "execution_count": 3,
   "id": "cardiac-fifty",
   "metadata": {},
   "outputs": [
    {
     "name": "stdout",
     "output_type": "stream",
     "text": [
      "Number of Images removed from dataset: 284\n"
     ]
    }
   ],
   "source": [
    "destiny = os.path.join(XAVI_DIR, subset + resolution + \" (removed images)\")\n",
    "dataset.remove_black_images(destiny)"
   ]
  },
  {
   "cell_type": "markdown",
   "id": "anticipated-wyoming",
   "metadata": {},
   "source": [
    "### Status of dataset"
   ]
  },
  {
   "cell_type": "code",
   "execution_count": 4,
   "id": "celtic-dress",
   "metadata": {
    "scrolled": true
   },
   "outputs": [
    {
     "name": "stdout",
     "output_type": "stream",
     "text": [
      "Image Count: 0\n",
      "Class Count: 1\n",
      "  0. BG                                                \n"
     ]
    }
   ],
   "source": [
    "dataset = xavi.XaviDataset()\n",
    "dataset.load_xavi(XAVI_DIR, subset + resolution, xavi.MasksType.PNG, json_categories, (512,512))\n",
    "dataset.prepare()\n",
    "\n",
    "print(\"Image Count: {}\".format(len(dataset.image_ids)))\n",
    "print(\"Class Count: {}\".format(dataset.num_classes))\n",
    "for i, info in enumerate(dataset.class_info):\n",
    "    print(\"{:3}. {:50}\".format(i, info['name']))"
   ]
  }
 ],
 "metadata": {
  "kernelspec": {
   "display_name": "Python 3",
   "language": "python",
   "name": "python3"
  },
  "language_info": {
   "codemirror_mode": {
    "name": "ipython",
    "version": 3
   },
   "file_extension": ".py",
   "mimetype": "text/x-python",
   "name": "python",
   "nbconvert_exporter": "python",
   "pygments_lexer": "ipython3",
   "version": "3.7.8"
  }
 },
 "nbformat": 4,
 "nbformat_minor": 5
}
