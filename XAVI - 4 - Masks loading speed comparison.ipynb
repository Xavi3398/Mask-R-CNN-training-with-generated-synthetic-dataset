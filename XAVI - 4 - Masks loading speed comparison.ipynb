{
 "cells": [
  {
   "cell_type": "markdown",
   "id": "refined-passage",
   "metadata": {},
   "source": [
    "# Masks loading speed comparison"
   ]
  },
  {
   "cell_type": "code",
   "execution_count": 1,
   "id": "current-deadline",
   "metadata": {},
   "outputs": [
    {
     "name": "stderr",
     "output_type": "stream",
     "text": [
      "Using TensorFlow backend.\n"
     ]
    }
   ],
   "source": [
    "%load_ext autoreload\n",
    "%autoreload 2\n",
    "\n",
    "import os\n",
    "import json\n",
    "import warnings\n",
    "\n",
    "warnings.filterwarnings('ignore')\n",
    "\n",
    "import utils\n",
    "import xavi\n",
    "\n",
    "ROOT_DIR = os.getcwd()\n",
    "XAVI_DIR = \"XAVI_Dataset\"\n",
    "subset = \"train\"\n",
    "resolution = \"512\"\n",
    "json_categories = json.load(open(os.path.join(XAVI_DIR, subset + resolution, \"categories.json\")))[\"Categories\"]\n",
    "config = xavi.XaviConfig(json_categories)"
   ]
  },
  {
   "cell_type": "markdown",
   "id": "finite-footwear",
   "metadata": {},
   "source": [
    "## 1. Masks generated at runtime"
   ]
  },
  {
   "cell_type": "code",
   "execution_count": 3,
   "id": "insured-africa",
   "metadata": {},
   "outputs": [
    {
     "name": "stdout",
     "output_type": "stream",
     "text": [
      "Image Count: 19584\n",
      "Class Count: 3\n",
      "  0. BG                                                \n",
      "  1. Human                                             \n",
      "  2. Vehicle_Car                                       \n"
     ]
    }
   ],
   "source": [
    "# Dataset\n",
    "dataset = xavi.XaviDataset()\n",
    "dataset.load_xavi(XAVI_DIR, subset + resolution, xavi.MasksType.ON_THE_FLY, json_categories, (512, 512))\n",
    "dataset.prepare()"
   ]
  },
  {
   "cell_type": "code",
   "execution_count": 3,
   "id": "perceived-nomination",
   "metadata": {},
   "outputs": [
    {
     "name": "stdout",
     "output_type": "stream",
     "text": [
      "Elapsed time: 227.68 (2.2 masks/s)\n"
     ]
    }
   ],
   "source": [
    "OnTheFly_time, OnTheFly_speed = dataset.load_masks_test(500)"
   ]
  },
  {
   "cell_type": "markdown",
   "id": "sublime-figure",
   "metadata": {},
   "source": [
    "## 2. Masks from stored PNG images"
   ]
  },
  {
   "cell_type": "code",
   "execution_count": 7,
   "id": "prompt-production",
   "metadata": {},
   "outputs": [],
   "source": [
    "# Dataset\n",
    "dataset = xavi.XaviDataset()\n",
    "dataset.load_xavi(XAVI_DIR, subset + resolution, xavi.MasksType.PNG, json_categories, (512, 512))\n",
    "dataset.prepare()"
   ]
  },
  {
   "cell_type": "code",
   "execution_count": 8,
   "id": "sitting-shock",
   "metadata": {},
   "outputs": [
    {
     "name": "stdout",
     "output_type": "stream",
     "text": [
      "Elapsed time: 575.2 (17.39 masks/s)\n"
     ]
    }
   ],
   "source": [
    "Png_time, Png_speed = dataset.load_masks_test(10000)"
   ]
  },
  {
   "cell_type": "markdown",
   "id": "sharp-triumph",
   "metadata": {},
   "source": [
    "## 3. Masks from stored annotations file"
   ]
  },
  {
   "cell_type": "code",
   "execution_count": 9,
   "id": "personal-break",
   "metadata": {},
   "outputs": [
    {
     "name": "stdout",
     "output_type": "stream",
     "text": [
      "loading annotations into memory...\n",
      "Done (t=3.42s)\n",
      "creating index...\n",
      "index created!\n"
     ]
    }
   ],
   "source": [
    "# Dataset\n",
    "dataset = xavi.XaviDataset()\n",
    "dataset.load_xavi(XAVI_DIR, subset + resolution, xavi.MasksType.ANNOTATIONS, json_categories, (512, 512))\n",
    "dataset.prepare()"
   ]
  },
  {
   "cell_type": "code",
   "execution_count": 10,
   "id": "instant-vietnam",
   "metadata": {},
   "outputs": [
    {
     "name": "stdout",
     "output_type": "stream",
     "text": [
      "Elapsed time: 16.72 (598.17 masks/s)\n"
     ]
    }
   ],
   "source": [
    "Annotations_time, Annotations_speed = dataset.load_masks_test(10000)"
   ]
  }
 ],
 "metadata": {
  "kernelspec": {
   "display_name": "Python 3",
   "language": "python",
   "name": "python3"
  },
  "language_info": {
   "codemirror_mode": {
    "name": "ipython",
    "version": 3
   },
   "file_extension": ".py",
   "mimetype": "text/x-python",
   "name": "python",
   "nbconvert_exporter": "python",
   "pygments_lexer": "ipython3",
   "version": "3.7.8"
  }
 },
 "nbformat": 4,
 "nbformat_minor": 5
}
